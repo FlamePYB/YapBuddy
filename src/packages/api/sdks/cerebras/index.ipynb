{
 "cells": [
  {
   "cell_type": "code",
   "execution_count": 25,
   "id": "39b3a5c7",
   "metadata": {},
   "outputs": [
    {
     "name": "stdout",
     "output_type": "stream",
     "text": [
      "Hello! I'm just a computer program, so I don't have feelings, but thanks for asking! How can I help you today? 😊\n"
     ]
    }
   ],
   "source": [
    "import os\n",
    "from cerebras.cloud.sdk import Cerebras\n",
    "import json\n",
    "client = Cerebras(\n",
    "    # This is the default and can be omitted\n",
    "    api_key=\"csk-vkv299rfjj4t2dk89h599p4nwjnej8xt9pd4fwcpw4d84tr3\"\n",
    ")\n",
    "\n",
    "completion_create_response = client.chat.completions.create(\n",
    "    messages=[\n",
    "        {\n",
    "            \"role\": \"system\",\n",
    "            \"content\": \"JSON\"\n",
    "        },\n",
    "        {\n",
    "            \"role\": \"user\",\n",
    "            \"content\": \"hello how are you\"\n",
    "        }\n",
    "    ],\n",
    "    model=\"qwen-3-235b-a22b-instruct-2507\",\n",
    "    stream=False,\n",
    "    max_completion_tokens=200,\n",
    "    temperature=0.7,\n",
    "    top_p=0.8,\n",
    ")\n",
    "\n",
    "\n",
    "\n",
    "print(completion_create_response.choices[0].message.content)"
   ]
  }
 ],
 "metadata": {
  "kernelspec": {
   "display_name": ".venv (3.13.7)",
   "language": "python",
   "name": "python3"
  },
  "language_info": {
   "codemirror_mode": {
    "name": "ipython",
    "version": 3
   },
   "file_extension": ".py",
   "mimetype": "text/x-python",
   "name": "python",
   "nbconvert_exporter": "python",
   "pygments_lexer": "ipython3",
   "version": "3.13.7"
  }
 },
 "nbformat": 4,
 "nbformat_minor": 5
}
